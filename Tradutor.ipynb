{
 "cells": [
  {
   "cell_type": "code",
   "execution_count": 1,
   "metadata": {},
   "outputs": [],
   "source": [
    "import pandas as pd\n",
    "from googletrans import Translator\n",
    "from tqdm import tqdm"
   ]
  },
  {
   "cell_type": "code",
   "execution_count": 2,
   "metadata": {},
   "outputs": [
    {
     "data": {
      "text/html": [
       "<div>\n",
       "<style scoped>\n",
       "    .dataframe tbody tr th:only-of-type {\n",
       "        vertical-align: middle;\n",
       "    }\n",
       "\n",
       "    .dataframe tbody tr th {\n",
       "        vertical-align: top;\n",
       "    }\n",
       "\n",
       "    .dataframe thead th {\n",
       "        text-align: right;\n",
       "    }\n",
       "</style>\n",
       "<table border=\"1\" class=\"dataframe\">\n",
       "  <thead>\n",
       "    <tr style=\"text-align: right;\">\n",
       "      <th></th>\n",
       "      <th>sentiment</th>\n",
       "      <th>text</th>\n",
       "      <th>text_v2</th>\n",
       "    </tr>\n",
       "  </thead>\n",
       "  <tbody>\n",
       "    <tr>\n",
       "      <th>0</th>\n",
       "      <td>0</td>\n",
       "      <td>@chrishasboobs AHHH I HOPE YOUR OK!!!</td>\n",
       "      <td>AHHH I HOPE YOUR OK!!!</td>\n",
       "    </tr>\n",
       "    <tr>\n",
       "      <th>1</th>\n",
       "      <td>0</td>\n",
       "      <td>@misstoriblack cool , i have no tweet apps  fo...</td>\n",
       "      <td>cool , i have no tweet apps for my razr 2</td>\n",
       "    </tr>\n",
       "    <tr>\n",
       "      <th>2</th>\n",
       "      <td>0</td>\n",
       "      <td>@TiannaChaos i know  just family drama. its la...</td>\n",
       "      <td>i know just family drama. its lame.hey next ti...</td>\n",
       "    </tr>\n",
       "    <tr>\n",
       "      <th>3</th>\n",
       "      <td>0</td>\n",
       "      <td>School email won't open  and I have geography ...</td>\n",
       "      <td>School email won't open and I have geography s...</td>\n",
       "    </tr>\n",
       "    <tr>\n",
       "      <th>4</th>\n",
       "      <td>0</td>\n",
       "      <td>upper airways problem</td>\n",
       "      <td>upper airways problem</td>\n",
       "    </tr>\n",
       "  </tbody>\n",
       "</table>\n",
       "</div>"
      ],
      "text/plain": [
       "   sentiment                                               text  \\\n",
       "0          0             @chrishasboobs AHHH I HOPE YOUR OK!!!    \n",
       "1          0  @misstoriblack cool , i have no tweet apps  fo...   \n",
       "2          0  @TiannaChaos i know  just family drama. its la...   \n",
       "3          0  School email won't open  and I have geography ...   \n",
       "4          0                             upper airways problem    \n",
       "\n",
       "                                             text_v2  \n",
       "0                             AHHH I HOPE YOUR OK!!!  \n",
       "1          cool , i have no tweet apps for my razr 2  \n",
       "2  i know just family drama. its lame.hey next ti...  \n",
       "3  School email won't open and I have geography s...  \n",
       "4                              upper airways problem  "
      ]
     },
     "execution_count": 2,
     "metadata": {},
     "output_type": "execute_result"
    }
   ],
   "source": [
    "df_tweet = pd.read_csv(r'para_traduzir_chico.csv', sep=',')\n",
    "df_tweet.head()"
   ]
  },
  {
   "cell_type": "code",
   "execution_count": 3,
   "metadata": {},
   "outputs": [],
   "source": [
    "# df_amostra_1 = df_tweet.iloc[:5000]\n",
    "df_amostra_2 = df_tweet.iloc[5000:10000]\n",
    "df_amostra_3 = df_tweet.iloc[10000:20000]\n",
    "df_amostra_4 = df_tweet.iloc[20000:30000]\n",
    "df_amostra_5 = df_tweet.iloc[30000:40000]\n",
    "df_amostra_6 = df_tweet.iloc[40000:]\n"
   ]
  },
  {
   "cell_type": "code",
   "execution_count": 4,
   "metadata": {},
   "outputs": [
    {
     "data": {
      "text/plain": [
       "0    2508\n",
       "4    2492\n",
       "Name: sentiment, dtype: int64"
      ]
     },
     "execution_count": 4,
     "metadata": {},
     "output_type": "execute_result"
    }
   ],
   "source": [
    "df_amostra_2['sentiment'].value_counts()"
   ]
  },
  {
   "cell_type": "code",
   "execution_count": 5,
   "metadata": {},
   "outputs": [
    {
     "name": "stderr",
     "output_type": "stream",
     "text": [
      "100%|██████████| 5000/5000 [1:23:26<00:00,  1.00s/it]\n",
      "C:\\Users\\Diego\\AppData\\Local\\Temp/ipykernel_5976/1309598709.py:8: SettingWithCopyWarning: \n",
      "A value is trying to be set on a copy of a slice from a DataFrame.\n",
      "Try using .loc[row_indexer,col_indexer] = value instead\n",
      "\n",
      "See the caveats in the documentation: https://pandas.pydata.org/pandas-docs/stable/user_guide/indexing.html#returning-a-view-versus-a-copy\n",
      "  df_amostra_2['text_pt'] = frase_traduzida\n"
     ]
    }
   ],
   "source": [
    "trans = Translator()\n",
    "frase_traduzida = list()\n",
    "for frase in tqdm(df_amostra_2.text_v2):\n",
    "    try:\n",
    "        frase_traduzida.append(trans.translate(frase, dest='pt').text)\n",
    "    except:\n",
    "        frase_traduzida.append('')\n",
    "df_amostra_2['text_pt'] = frase_traduzida\n",
    "df_amostra_2.to_csv('traducao_02.csv' , index=False)"
   ]
  },
  {
   "cell_type": "code",
   "execution_count": 6,
   "metadata": {},
   "outputs": [
    {
     "name": "stderr",
     "output_type": "stream",
     "text": [
      "100%|██████████| 10000/10000 [2:36:03<00:00,  1.07it/s] \n",
      "C:\\Users\\Diego\\AppData\\Local\\Temp/ipykernel_5976/1334273137.py:8: SettingWithCopyWarning: \n",
      "A value is trying to be set on a copy of a slice from a DataFrame.\n",
      "Try using .loc[row_indexer,col_indexer] = value instead\n",
      "\n",
      "See the caveats in the documentation: https://pandas.pydata.org/pandas-docs/stable/user_guide/indexing.html#returning-a-view-versus-a-copy\n",
      "  df_amostra_3['text_pt'] = frase_traduzida\n"
     ]
    }
   ],
   "source": [
    "trans = Translator()\n",
    "frase_traduzida = list()\n",
    "for frase in tqdm(df_amostra_3.text_v2):\n",
    "    try:\n",
    "        frase_traduzida.append(trans.translate(frase, dest='pt').text)\n",
    "    except:\n",
    "        frase_traduzida.append('')\n",
    "df_amostra_3['text_pt'] = frase_traduzida\n",
    "df_amostra_3.to_csv('traducao_03.csv' , index=False)"
   ]
  },
  {
   "cell_type": "code",
   "execution_count": 7,
   "metadata": {},
   "outputs": [
    {
     "name": "stderr",
     "output_type": "stream",
     "text": [
      "100%|██████████| 10000/10000 [51:06<00:00,  3.26it/s] \n",
      "C:\\Users\\Diego\\AppData\\Local\\Temp/ipykernel_5976/3897427978.py:8: SettingWithCopyWarning: \n",
      "A value is trying to be set on a copy of a slice from a DataFrame.\n",
      "Try using .loc[row_indexer,col_indexer] = value instead\n",
      "\n",
      "See the caveats in the documentation: https://pandas.pydata.org/pandas-docs/stable/user_guide/indexing.html#returning-a-view-versus-a-copy\n",
      "  df_amostra_4['text_pt'] = frase_traduzida\n"
     ]
    }
   ],
   "source": [
    "trans = Translator()\n",
    "frase_traduzida = list()\n",
    "for frase in tqdm(df_amostra_4.text_v2):\n",
    "    try:\n",
    "        frase_traduzida.append(trans.translate(frase, dest='pt').text)\n",
    "    except:\n",
    "        frase_traduzida.append('')\n",
    "df_amostra_4['text_pt'] = frase_traduzida\n",
    "df_amostra_4.to_csv('traducao_04.csv' , index=False)"
   ]
  },
  {
   "cell_type": "code",
   "execution_count": 8,
   "metadata": {},
   "outputs": [
    {
     "name": "stderr",
     "output_type": "stream",
     "text": [
      "100%|██████████| 10000/10000 [51:23<00:00,  3.24it/s] \n",
      "C:\\Users\\Diego\\AppData\\Local\\Temp/ipykernel_5976/882223076.py:8: SettingWithCopyWarning: \n",
      "A value is trying to be set on a copy of a slice from a DataFrame.\n",
      "Try using .loc[row_indexer,col_indexer] = value instead\n",
      "\n",
      "See the caveats in the documentation: https://pandas.pydata.org/pandas-docs/stable/user_guide/indexing.html#returning-a-view-versus-a-copy\n",
      "  df_amostra_5['text_pt'] = frase_traduzida\n"
     ]
    }
   ],
   "source": [
    "trans = Translator()\n",
    "frase_traduzida = list()\n",
    "for frase in tqdm(df_amostra_5.text_v2):\n",
    "    try:\n",
    "        frase_traduzida.append(trans.translate(frase, dest='pt').text)\n",
    "    except:\n",
    "        frase_traduzida.append('')\n",
    "df_amostra_5['text_pt'] = frase_traduzida\n",
    "df_amostra_5.to_csv('traducao_05.csv' , index=False)"
   ]
  },
  {
   "cell_type": "code",
   "execution_count": 9,
   "metadata": {},
   "outputs": [
    {
     "name": "stderr",
     "output_type": "stream",
     "text": [
      " 13%|█▎        | 1319/9999 [06:28<56:56,  2.54it/s]  "
     ]
    }
   ],
   "source": [
    "trans = Translator()\n",
    "frase_traduzida = list()\n",
    "for frase in tqdm(df_amostra_6.text_v2):\n",
    "    try:\n",
    "        frase_traduzida.append(trans.translate(frase, dest='pt').text)\n",
    "    except:\n",
    "        frase_traduzida.append('')\n",
    "df_amostra_6['text_pt'] = frase_traduzida\n",
    "df_amostra_6.to_csv('traducao_06.csv' , index=False)"
   ]
  }
 ],
 "metadata": {
  "interpreter": {
   "hash": "90215180e3510b7cc610bbcd7049faaefdb75cf213a625a3b7913872d73ad565"
  },
  "kernelspec": {
   "display_name": "Python 3.9.7 ('base')",
   "language": "python",
   "name": "python3"
  },
  "language_info": {
   "codemirror_mode": {
    "name": "ipython",
    "version": 3
   },
   "file_extension": ".py",
   "mimetype": "text/x-python",
   "name": "python",
   "nbconvert_exporter": "python",
   "pygments_lexer": "ipython3",
   "version": "3.9.7"
  },
  "orig_nbformat": 4
 },
 "nbformat": 4,
 "nbformat_minor": 2
}
