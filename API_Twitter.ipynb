{
 "cells": [
  {
   "cell_type": "code",
   "execution_count": null,
   "metadata": {},
   "outputs": [],
   "source": [
    "import tweepy as tw\n",
    "import pandas as pd\n",
    "from datetime import datetime, date, timedelta\n",
    "import json\n",
    "from GoogleCloud import GoogleCloud\n",
    "import os\n",
    "from google.cloud import storage\n",
    "import time"
   ]
  },
  {
   "cell_type": "code",
   "execution_count": null,
   "metadata": {},
   "outputs": [],
   "source": [
    "with open(r'D:\\Estudos\\FIAP\\Acessos.json', 'r') as arquivo:\n",
    "    acesso_api =  json.load(arquivo)"
   ]
  },
  {
   "cell_type": "code",
   "execution_count": null,
   "metadata": {},
   "outputs": [],
   "source": [
    "cliente = tw.Client(bearer_token=acesso_api['bearer_token'], \n",
    "                    consumer_key=acesso_api['consumer_key'], \n",
    "                    consumer_secret=acesso_api['consumer_secret'],\n",
    "                    access_token=acesso_api['access_token'],\n",
    "                    access_token_secret=acesso_api['access_token_secret'])"
   ]
  },
  {
   "cell_type": "code",
   "execution_count": null,
   "metadata": {},
   "outputs": [],
   "source": [
    "def busca_tweet(data_inicio, data_fim, intervalo,query):\n",
    "    df_i = datetime.fromisoformat(data_inicio)\n",
    "    df_f = datetime.fromisoformat(data_fim)\n",
    "\n",
    "    lista_dados = []\n",
    "    while (df_i < df_f):\n",
    "        start = str(df_i).replace(' ','T')+'Z'\n",
    "        df_i = df_i+timedelta(minutes=intervalo)-timedelta(seconds=1)\n",
    "        end = str(df_i).replace(' ','T')+'Z'\n",
    "        df_i = df_i+timedelta(seconds=1)\n",
    "        lista_tweets = cliente.search_recent_tweets(query=query, \n",
    "                                                    max_results=100,\n",
    "                                                    start_time=start,\n",
    "                                                    end_time=end,\n",
    "                                                    tweet_fields=['created_at',\n",
    "                                                                    'public_metrics',\n",
    "                                                                    'lang',\n",
    "                                                                    'author_id',\n",
    "                                                                    'in_reply_to_user_id'\n",
    "                                                                    ])\n",
    "        lista_dados.append(lista_tweets.data)\n",
    "        print(start)\n",
    "    return lista_dados"
   ]
  },
  {
   "cell_type": "code",
   "execution_count": null,
   "metadata": {},
   "outputs": [],
   "source": [
    "lista_dados = busca_tweet('2022-03-24','2022-03-29',10,'studio_z')"
   ]
  },
  {
   "cell_type": "code",
   "execution_count": null,
   "metadata": {},
   "outputs": [],
   "source": [
    "lista_dados.to_csv('traducao_01.csv' , index=False)"
   ]
  },
  {
   "cell_type": "code",
   "execution_count": null,
   "metadata": {},
   "outputs": [],
   "source": [
    "resultado = []\n",
    "for tweet_data in lista_dados:\n",
    "\n",
    "    if tweet_data is not None and len(tweet_data) > 0:\n",
    "        for tweet in tweet_data:\n",
    "            obj = {\n",
    "                    \"id\":tweet.id,\n",
    "                    \"author_id\":tweet.author_id,\n",
    "                    \"created_at\":str(tweet.created_at)[:19],\n",
    "                    \"text\":tweet.text,\n",
    "                    \"lang\":tweet.lang,\n",
    "                    \"in_reply_to_user_id\":tweet.in_reply_to_user_id,\n",
    "                    \"retweet_count\":tweet.public_metrics['retweet_count'],\n",
    "                    \"reply_count\":tweet.public_metrics['reply_count'],\n",
    "                    \"like_count\":tweet.public_metrics['like_count'],\n",
    "                    \"quote_count\":tweet.public_metrics['quote_count']\n",
    "\n",
    "                }\n",
    "            resultado.append(obj)"
   ]
  },
  {
   "cell_type": "code",
   "execution_count": null,
   "metadata": {},
   "outputs": [],
   "source": [
    "# with open('D:\\Estudos\\FIAP\\Fase 5\\dados.json', 'w') as arquivo:\n",
    "#     arquivo.write(json.dumps(resultado, indent=4))"
   ]
  },
  {
   "cell_type": "code",
   "execution_count": null,
   "metadata": {},
   "outputs": [],
   "source": [
    "# Conexão com o Cloud\n",
    "cloud = GoogleCloud('D:\\Estudos\\FIAP\\ServiceKey_Google_Cloud.json')\n",
    "print(cloud.get_key())"
   ]
  },
  {
   "cell_type": "code",
   "execution_count": null,
   "metadata": {},
   "outputs": [],
   "source": [
    "# Faz o Upload do arquivo JSON em Memoria para o Cloud\n",
    "\n",
    "arquivo_json = json.dumps(resultado, indent=4)\n",
    "bucket_name = 'data_lake_2022'\n",
    "cliente = 'studio_z'\n",
    "blob_name = 'dados.json'\n",
    "\n",
    "cloud.upload_blob_from_memory(bucket_name,\n",
    "                                arquivo_json,\n",
    "                                cliente+'/'+blob_name )"
   ]
  },
  {
   "cell_type": "code",
   "execution_count": null,
   "metadata": {},
   "outputs": [],
   "source": [
    "# Extrai um arquivos especifico de um diretorio do Cloud\n",
    "bucket_name = 'data_lake_2022'\n",
    "cliente = 'studio_z'\n",
    "blob_name = 'dados.json'\n",
    "aux = cloud.download_blob_to_json_list(bucket_name,cliente+'/'+blob_name)"
   ]
  },
  {
   "cell_type": "code",
   "execution_count": null,
   "metadata": {},
   "outputs": [],
   "source": [
    "# Extrai todos os arquivos de um diretorio do Cloud\n",
    "bucket_name = 'data_lake_2022'\n",
    "cliente = 'studio_z'\n",
    "aux2 = cloud.get_list_blob(bucket_name, cliente)\n",
    "\n",
    "lista_arquivos = []\n",
    "for arquivo in aux2:\n",
    "    aux = cloud.download_blob_to_json_list(bucket_name,arquivo.name)\n",
    "    lista_arquivos.append(aux)"
   ]
  }
 ],
 "metadata": {
  "interpreter": {
   "hash": "90215180e3510b7cc610bbcd7049faaefdb75cf213a625a3b7913872d73ad565"
  },
  "kernelspec": {
   "display_name": "Python 3.9.7 ('base')",
   "language": "python",
   "name": "python3"
  },
  "language_info": {
   "codemirror_mode": {
    "name": "ipython",
    "version": 3
   },
   "file_extension": ".py",
   "mimetype": "text/x-python",
   "name": "python",
   "nbconvert_exporter": "python",
   "pygments_lexer": "ipython3",
   "version": "3.9.7"
  },
  "orig_nbformat": 4
 },
 "nbformat": 4,
 "nbformat_minor": 2
}
