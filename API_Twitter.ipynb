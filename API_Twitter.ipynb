{
 "cells": [
  {
   "cell_type": "code",
   "execution_count": 93,
   "metadata": {},
   "outputs": [],
   "source": [
    "import tweepy as tw\n",
    "import pandas as pd\n",
    "from datetime import datetime, date, timedelta\n",
    "import json"
   ]
  },
  {
   "cell_type": "code",
   "execution_count": 94,
   "metadata": {},
   "outputs": [],
   "source": [
    "with open(r'D:\\Estudos\\FIAP\\Acessos.json', 'r') as arquivo:\n",
    "    acesso_api =  json.load(arquivo)"
   ]
  },
  {
   "cell_type": "code",
   "execution_count": 95,
   "metadata": {},
   "outputs": [],
   "source": [
    "cliente = tw.Client(bearer_token=acesso_api['bearer_token'], \n",
    "                    consumer_key=acesso_api['consumer_key'], \n",
    "                    consumer_secret=acesso_api['consumer_secret'],\n",
    "                    access_token=acesso_api['access_token'],\n",
    "                    access_token_secret=acesso_api['access_token_secret'])"
   ]
  },
  {
   "cell_type": "code",
   "execution_count": 107,
   "metadata": {},
   "outputs": [],
   "source": [
    "def busca_tweet(data_inicio, data_fim, intervalo,query):\n",
    "    df_i = datetime.fromisoformat(data_inicio)\n",
    "    df_f = datetime.fromisoformat(data_fim)\n",
    "\n",
    "    lista_dados = []\n",
    "    while (df_i < df_f):\n",
    "        start = str(df_i).replace(' ','T')+'Z'\n",
    "        df_i = df_i+timedelta(minutes=intervalo)-timedelta(seconds=1)\n",
    "        end = str(df_i).replace(' ','T')+'Z'\n",
    "        df_i = df_i+timedelta(seconds=1)\n",
    "        lista_tweets = cliente.search_recent_tweets(query=query, \n",
    "                                                    max_results=100,\n",
    "                                                    start_time=start,\n",
    "                                                    end_time=end, \n",
    "                                                    tweet_fields=['created_at',\n",
    "                                                                    'public_metrics',\n",
    "                                                                    'lang',\n",
    "                                                                    'author_id',\n",
    "                                                                    'in_reply_to_user_id'\n",
    "                                                                    ])\n",
    "        lista_dados.append(lista_tweets.data)\n",
    "    return lista_dados\n",
    "        "
   ]
  },
  {
   "cell_type": "code",
   "execution_count": 108,
   "metadata": {},
   "outputs": [],
   "source": [
    "lista_dados = busca_tweet('2022-03-25','2022-03-26',10,'studio_z')"
   ]
  },
  {
   "cell_type": "code",
   "execution_count": 161,
   "metadata": {},
   "outputs": [],
   "source": [
    "resultado = []\n",
    "for tweet_data in lista_dados:\n",
    "\n",
    "    if tweet_data is not None and len(tweet_data) > 0:\n",
    "        for tweet in tweet_data:\n",
    "            obj = {\n",
    "                    \"id\":tweet.id,\n",
    "                    \"author_id\":tweet.author_id,\n",
    "                    \"created_at\":str(tweet.created_at)[:19],\n",
    "                    \"text\":tweet.text,\n",
    "                    \"lang\":tweet.lang,\n",
    "                    \"in_reply_to_user_id\":tweet.in_reply_to_user_id,\n",
    "                    \"public_metrics\":\n",
    "                    {\n",
    "                        \"retweet_count\":tweet.public_metrics['retweet_count'],\n",
    "                        \"reply_count\":tweet.public_metrics['reply_count'],\n",
    "                        \"like_count\":tweet.public_metrics['like_count'],\n",
    "                        \"quote_count\":tweet.public_metrics['quote_count']\n",
    "                    }\n",
    "                }\n",
    "            resultado.append(obj)"
   ]
  },
  {
   "cell_type": "code",
   "execution_count": 164,
   "metadata": {},
   "outputs": [],
   "source": [
    "with open('D:\\Estudos\\FIAP\\Fase 5\\dados.json', 'w') as arquivo:\n",
    "    arquivo.write(json.dumps(resultado, indent=4))"
   ]
  },
  {
   "cell_type": "code",
   "execution_count": null,
   "metadata": {},
   "outputs": [],
   "source": []
  }
 ],
 "metadata": {
  "interpreter": {
   "hash": "90215180e3510b7cc610bbcd7049faaefdb75cf213a625a3b7913872d73ad565"
  },
  "kernelspec": {
   "display_name": "Python 3.9.7 ('base')",
   "language": "python",
   "name": "python3"
  },
  "language_info": {
   "codemirror_mode": {
    "name": "ipython",
    "version": 3
   },
   "file_extension": ".py",
   "mimetype": "text/x-python",
   "name": "python",
   "nbconvert_exporter": "python",
   "pygments_lexer": "ipython3",
   "version": "3.9.7"
  },
  "orig_nbformat": 4
 },
 "nbformat": 4,
 "nbformat_minor": 2
}
