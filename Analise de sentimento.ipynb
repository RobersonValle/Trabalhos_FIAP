{
 "cells": [
  {
   "cell_type": "code",
   "execution_count": null,
   "metadata": {},
   "outputs": [],
   "source": [
    "import pandas as pd\n",
    "from sklearn.model_selection import train_test_split\n",
    "from sklearn.linear_model import LogisticRegression\n",
    "from sklearn.feature_extraction.text import CountVectorizer\n",
    "from googletrans import Translator"
   ]
  },
  {
   "cell_type": "code",
   "execution_count": null,
   "metadata": {},
   "outputs": [],
   "source": [
    "ds_columns  = [\"sentiment\", \"ids\", \"date\", \"flag\", \"user\", \"text\"]\n",
    "ds_encoding = \"ISO-8859-1\"\n",
    "df_tweet = pd.read_csv(r'D:\\Estudos\\FIAP\\Fase 5\\Tweets.csv', sep=',', encoding=ds_encoding, names=ds_columns)\n",
    "df_tweet.head()"
   ]
  },
  {
   "cell_type": "code",
   "execution_count": null,
   "metadata": {},
   "outputs": [],
   "source": [
    "df_tweet.sentiment.value_counts()"
   ]
  },
  {
   "cell_type": "code",
   "execution_count": null,
   "metadata": {},
   "outputs": [],
   "source": [
    "vetorizar = CountVectorizer(lowercase=False, max_features=50)\n",
    "bag_of_words = vetorizar.fit_transform(df_tweet.text)\n",
    "# print(bag_of_words)\n",
    "matriz_esparsa = pd.DataFrame.sparse.from_spmatrix(bag_of_words, columns=vetorizar.get_feature_names())"
   ]
  },
  {
   "cell_type": "code",
   "execution_count": null,
   "metadata": {},
   "outputs": [],
   "source": [
    "matriz_esparsa"
   ]
  },
  {
   "cell_type": "code",
   "execution_count": null,
   "metadata": {},
   "outputs": [],
   "source": [
    "def classificacao_texto(df, coluna_texto, coluna_classificacao):\n",
    "    vetorizar = CountVectorizer(lowercase=False, max_features=50)\n",
    "    bag_of_words = vetorizar.fit_transform(df[coluna_texto])\n",
    "    # matriz_esparsa = pd.DataFrame.sparse.from_spmatrix(bag_of_words, columns=vetorizar.get_feature_names())\n",
    "    \n",
    "    treino, teste, classe_treino, classe_teste = train_test_split(bag_of_words, \n",
    "                                                                    df[coluna_classificacao], \n",
    "                                                                    random_state=42)\n",
    "    regressao_logistica = LogisticRegression()\n",
    "    regressao_logistica.fit(treino,classe_treino)\n",
    "    return regressao_logistica.score(teste, classe_teste)\n"
   ]
  },
  {
   "cell_type": "code",
   "execution_count": null,
   "metadata": {},
   "outputs": [],
   "source": [
    "classificacao_texto(df_tweet,'text','sentiment')"
   ]
  },
  {
   "cell_type": "code",
   "execution_count": null,
   "metadata": {},
   "outputs": [],
   "source": [
    "lista_df = list()\n",
    "for frase in df_tweet.text:\n",
    "    frase_teste = []\n",
    "    for palavra in frase.split():\n",
    "        if '@' in palavra or '.com' in palavra:\n",
    "            continue\n",
    "        else:\n",
    "            frase_teste.append(palavra)\n",
    "    lista_df.append(' '.join(frase_teste))\n",
    "\n",
    "df_tweet['text_v2'] = lista_df"
   ]
  },
  {
   "cell_type": "code",
   "execution_count": null,
   "metadata": {},
   "outputs": [],
   "source": [
    "trans = Translator()"
   ]
  },
  {
   "cell_type": "code",
   "execution_count": null,
   "metadata": {},
   "outputs": [],
   "source": [
    "frase_traduzida = list()\n",
    "for frase in df_tweet.text_v2:\n",
    "    try:\n",
    "        frase_traduzida.append(trans.translate(frase, dest='pt').text)\n",
    "    except:\n",
    "        frase_traduzida.append('')\n",
    "df_tweet['text_pt'] = frase_traduzida"
   ]
  },
  {
   "cell_type": "code",
   "execution_count": null,
   "metadata": {},
   "outputs": [],
   "source": [
    "df_tweet"
   ]
  }
 ],
 "metadata": {
  "interpreter": {
   "hash": "90215180e3510b7cc610bbcd7049faaefdb75cf213a625a3b7913872d73ad565"
  },
  "kernelspec": {
   "display_name": "Python 3.9.7 ('base')",
   "language": "python",
   "name": "python3"
  },
  "language_info": {
   "codemirror_mode": {
    "name": "ipython",
    "version": 3
   },
   "file_extension": ".py",
   "mimetype": "text/x-python",
   "name": "python",
   "nbconvert_exporter": "python",
   "pygments_lexer": "ipython3",
   "version": "3.9.7"
  },
  "orig_nbformat": 4
 },
 "nbformat": 4,
 "nbformat_minor": 2
}
