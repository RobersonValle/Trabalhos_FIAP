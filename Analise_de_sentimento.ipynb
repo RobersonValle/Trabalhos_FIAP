{
 "cells": [
  {
   "cell_type": "code",
   "execution_count": 18,
   "metadata": {},
   "outputs": [],
   "source": [
    "import pandas as pd\n",
    "import numpy as np\n",
    "from sklearn.model_selection import train_test_split\n",
    "from sklearn.linear_model import LogisticRegression\n",
    "from sklearn.feature_extraction.text import CountVectorizer"
   ]
  },
  {
   "cell_type": "code",
   "execution_count": 2,
   "metadata": {},
   "outputs": [
    {
     "data": {
      "text/html": [
       "<div>\n",
       "<style scoped>\n",
       "    .dataframe tbody tr th:only-of-type {\n",
       "        vertical-align: middle;\n",
       "    }\n",
       "\n",
       "    .dataframe tbody tr th {\n",
       "        vertical-align: top;\n",
       "    }\n",
       "\n",
       "    .dataframe thead th {\n",
       "        text-align: right;\n",
       "    }\n",
       "</style>\n",
       "<table border=\"1\" class=\"dataframe\">\n",
       "  <thead>\n",
       "    <tr style=\"text-align: right;\">\n",
       "      <th></th>\n",
       "      <th>id</th>\n",
       "      <th>tweet_text</th>\n",
       "      <th>tweet_date</th>\n",
       "      <th>sentiment</th>\n",
       "      <th>query_used</th>\n",
       "    </tr>\n",
       "  </thead>\n",
       "  <tbody>\n",
       "    <tr>\n",
       "      <th>0</th>\n",
       "      <td>1031761728445530112</td>\n",
       "      <td>@Tixaa23 14 para eu ir :)</td>\n",
       "      <td>Tue Aug 21 04:35:39 +0000 2018</td>\n",
       "      <td>Positivo</td>\n",
       "      <td>:)</td>\n",
       "    </tr>\n",
       "    <tr>\n",
       "      <th>1</th>\n",
       "      <td>1031761040462278656</td>\n",
       "      <td>@drexalvarez O meu like eu já dei na época :)</td>\n",
       "      <td>Tue Aug 21 04:32:55 +0000 2018</td>\n",
       "      <td>Positivo</td>\n",
       "      <td>:)</td>\n",
       "    </tr>\n",
       "    <tr>\n",
       "      <th>2</th>\n",
       "      <td>1031760962372689920</td>\n",
       "      <td>Eu só queria conseguir comer alguma coisa pra ...</td>\n",
       "      <td>Tue Aug 21 04:32:37 +0000 2018</td>\n",
       "      <td>Positivo</td>\n",
       "      <td>:)</td>\n",
       "    </tr>\n",
       "    <tr>\n",
       "      <th>3</th>\n",
       "      <td>1031760948250456066</td>\n",
       "      <td>:D que lindo dia !</td>\n",
       "      <td>Tue Aug 21 04:32:33 +0000 2018</td>\n",
       "      <td>Positivo</td>\n",
       "      <td>:)</td>\n",
       "    </tr>\n",
       "    <tr>\n",
       "      <th>4</th>\n",
       "      <td>1031760895985246208</td>\n",
       "      <td>@Primo_Resmungao Pq da pr jeito!!é uma \"oferta...</td>\n",
       "      <td>Tue Aug 21 04:32:21 +0000 2018</td>\n",
       "      <td>Positivo</td>\n",
       "      <td>:)</td>\n",
       "    </tr>\n",
       "  </tbody>\n",
       "</table>\n",
       "</div>"
      ],
      "text/plain": [
       "                    id                                         tweet_text  \\\n",
       "0  1031761728445530112                          @Tixaa23 14 para eu ir :)   \n",
       "1  1031761040462278656      @drexalvarez O meu like eu já dei na época :)   \n",
       "2  1031760962372689920  Eu só queria conseguir comer alguma coisa pra ...   \n",
       "3  1031760948250456066                                 :D que lindo dia !   \n",
       "4  1031760895985246208  @Primo_Resmungao Pq da pr jeito!!é uma \"oferta...   \n",
       "\n",
       "                       tweet_date sentiment query_used  \n",
       "0  Tue Aug 21 04:35:39 +0000 2018  Positivo         :)  \n",
       "1  Tue Aug 21 04:32:55 +0000 2018  Positivo         :)  \n",
       "2  Tue Aug 21 04:32:37 +0000 2018  Positivo         :)  \n",
       "3  Tue Aug 21 04:32:33 +0000 2018  Positivo         :)  \n",
       "4  Tue Aug 21 04:32:21 +0000 2018  Positivo         :)  "
      ]
     },
     "execution_count": 2,
     "metadata": {},
     "output_type": "execute_result"
    }
   ],
   "source": [
    "df_tweet = pd.read_csv(r'D:\\Estudos\\FIAP\\Fase 5\\DataSet PT-BR\\Portuguese Tweets for Sentiment Analysis\\NoThemeTweets.csv')\n",
    "df_tweet.head()"
   ]
  },
  {
   "cell_type": "code",
   "execution_count": 5,
   "metadata": {},
   "outputs": [],
   "source": [
    "lista_df = list()\n",
    "for frase in df_tweet.tweet_text:\n",
    "    frase_teste = []\n",
    "    for palavra in frase.split():\n",
    "        if '@' in palavra or '.com' in palavra:\n",
    "            continue\n",
    "        else:\n",
    "            frase_teste.append(palavra)\n",
    "    lista_df.append(' '.join(frase_teste))\n",
    "\n",
    "df_tweet['tweet_text'] = lista_df"
   ]
  },
  {
   "cell_type": "code",
   "execution_count": 6,
   "metadata": {},
   "outputs": [],
   "source": [
    "def classificacao_texto(df, coluna_texto, coluna_classificacao):\n",
    "    vetorizar = CountVectorizer(analyzer = 'word')\n",
    "    bag_of_words = vetorizar.fit_transform(df[coluna_texto])\n",
    "    \n",
    "    treino, teste, classe_treino, classe_teste = train_test_split(bag_of_words, \n",
    "                                                                    df[coluna_classificacao], \n",
    "                                                                    random_state=42)\n",
    "    regressao_logistica = LogisticRegression()\n",
    "    regressao_logistica.fit(treino,classe_treino)\n",
    "    return vetorizar, regressao_logistica, regressao_logistica.score(teste, classe_teste)\n"
   ]
  },
  {
   "cell_type": "code",
   "execution_count": null,
   "metadata": {},
   "outputs": [],
   "source": [
    "vetorizar, modelo, acuracia = classificacao_texto(df_tweet, 'tweet_text', 'sentiment')"
   ]
  },
  {
   "cell_type": "code",
   "execution_count": 9,
   "metadata": {},
   "outputs": [
    {
     "data": {
      "text/plain": [
       "0.8012919054842355"
      ]
     },
     "execution_count": 9,
     "metadata": {},
     "output_type": "execute_result"
    }
   ],
   "source": [
    "acuracia"
   ]
  },
  {
   "cell_type": "code",
   "execution_count": 11,
   "metadata": {},
   "outputs": [],
   "source": [
    "df_decathlon = pd.read_json(r'D:\\Estudos\\FIAP\\Fase 5\\Tweets coletados\\Tweets_20220325_29_Decathlon.json')\n",
    "df_Netshoes_1 = pd.read_json(r'D:\\Estudos\\FIAP\\Fase 5\\Tweets coletados\\Tweets_20220325_Netshoes.json')\n",
    "df_studio_1 = pd.read_json(r'D:\\Estudos\\FIAP\\Fase 5\\Tweets coletados\\Tweets_20220325_studio_z.json')\n",
    "df_Netshoes_2 = pd.read_json(r'D:\\Estudos\\FIAP\\Fase 5\\Tweets coletados\\Tweets_20220326_Netshoes.json')\n",
    "df_studio_2 = pd.read_json(r'D:\\Estudos\\FIAP\\Fase 5\\Tweets coletados\\Tweets_20220326_studio_z.json')\n",
    "df_Netshoes_3 = pd.read_json(r'D:\\Estudos\\FIAP\\Fase 5\\Tweets coletados\\Tweets_20220327_Netshoes.json')\n",
    "df_studio_3 = pd.read_json(r'D:\\Estudos\\FIAP\\Fase 5\\Tweets coletados\\Tweets_20220327_studio_z.json')\n",
    "df_Netshoes_4 = pd.read_json(r'D:\\Estudos\\FIAP\\Fase 5\\Tweets coletados\\Tweets_20220328_29_Netshoes.json')\n",
    "df_studio_4 = pd.read_json(r'D:\\Estudos\\FIAP\\Fase 5\\Tweets coletados\\Tweets_20220328_studio_z.json')\n",
    "df_studio_5 = pd.read_json(r'D:\\Estudos\\FIAP\\Fase 5\\Tweets coletados\\Tweets_20220329_studio_z.json')\n",
    "\n",
    "df_netshoes = pd.concat([df_Netshoes_1,df_Netshoes_2, df_Netshoes_3, df_Netshoes_4])\n",
    "df_studio = pd.concat([df_studio_1, df_studio_2, df_studio_3, df_studio_4, df_studio_5])\n",
    "\n",
    "df_decathlon['query'] = 'Decathlon'\n",
    "df_netshoes['query'] = 'Netshoes'\n",
    "df_studio['query'] = 'Studio Z'\n",
    "\n",
    "df_completo = pd.concat([df_netshoes,df_studio,df_decathlon])"
   ]
  },
  {
   "cell_type": "code",
   "execution_count": 37,
   "metadata": {},
   "outputs": [],
   "source": [
    "df = df_decathlon[df_decathlon['lang']=='pt']\n",
    "freq_testes = vetorizar.transform(df['text'])\n",
    "resultado = modelo.predict(freq_testes)"
   ]
  },
  {
   "cell_type": "code",
   "execution_count": 59,
   "metadata": {},
   "outputs": [
    {
     "name": "stdout",
     "output_type": "stream",
     "text": [
      "Minha mãe encatadissima por entrar na decathlon pela primeira vez na vida kkkkkkkkkkkkkk\n",
      "Positivo\n"
     ]
    }
   ],
   "source": [
    "print(df['text'].iloc[29])\n",
    "print(resultado[29])"
   ]
  },
  {
   "cell_type": "code",
   "execution_count": 61,
   "metadata": {},
   "outputs": [
    {
     "data": {
      "text/plain": [
       "['porra decathlon nao me responde email nem fudendo tem 2 semanas',\n",
       " 'E isso aqui?\\nEncontro de diversidade na Decathlon aí sem nenhuma pessoa não branca.\\nQue piada!!! https://t.co/vztUdu77BG',\n",
       " 'Confira esta vaga na Decathlon Brasil : https://t.co/6IHAGzryWN https://t.co/wsWCwRuRCh',\n",
       " '@MariiAnselmo fui pesquisar preço de bike quase caí pra trás, vale mais alugar mesmo. mas patins achei por um preço bom na decathlon, só esperando chegar',\n",
       " 'Preciso da um pulo na decathlon',\n",
       " 'EBS Propaganda e Marketing: Decathlon Desconto de 10% https://t.co/RDoGhErKKR .....',\n",
       " 'rolê ideal de date: decathlon! kkkkk e eu posso provar, tenho foto com uns 3 date na decathlon',\n",
       " \"poderia estar arc'twizzyd up neste momento que nem o yeat mas a única coisa a impedir-me é um casaco da arc'teryx ser 600 paus e parecer um polar da quechua diretamente saído da decathlon\",\n",
       " 'A camisola mais quente e barata da Decathlon custa 4€ e pode ser usada em todo o lado https://t.co/vt3ZKXTaGt',\n",
       " 'Eu sei que estou a repetir outfits, mas também vos digo, na minha reclusão, a Decathlon impera e os modelitos ficam para ir ao médico. Porém tenho a bengala mais fashion de todo o Alentejo. Na há velha que me bata em estilo 🦯🦯🦯 https://t.co/WHyYT58ZWE',\n",
       " 'Esta thread tem um ano, e sim, os meus produtos duraram UM ANO (estão agr a acabar), portanto o investimento vale a pena. A máscara tá quase nova, não uso assim tanto.\\n\\nPassado um ano digo que o primeiro passo é arranjarem a TOALHA DE MICROFIBRA. Comprei a minha na decathlon https://t.co/Hs6R82G1i9',\n",
       " 'EBS Propaganda e Marketing: Decathlon Desconto de 10% https://t.co/RDoGhErKKR 1',\n",
       " 'revendo o vídeo de quando ganhamos o decathlon do ct em 2017 KKKKKKKKK ai meu deus',\n",
       " 'Nicole Bahls comprando patins na Decathlon https://t.co/BW27TP6733',\n",
       " 'RT @SaunderHart: As marcas Auchan, Leroy Merlin, Decathlon, Total, não abandonam a Rússia, porque afirmam que perderiam muito dinheiro.\\nDa…',\n",
       " 'RT @ana_chambel: Eu sei que estou a repetir outfits, mas também vos digo, na minha reclusão, a Decathlon impera e os modelitos ficam para i…',\n",
       " 'eu literalmente esbarrei no caio castro hoje na decathlon vei pqp qie vergonha mano',\n",
       " 'Eu fui ver no site da Decathlon pra comprar uma garrafinha de água e eu juro pra você que a grande maioria custa mais de R$ 400,00...\\n\\nUMA\\nGARRAFA\\nDE\\nÁGUA',\n",
       " '@sagradalivre eu tenho esse e acho perfeito https://t.co/Hw09xNbivp',\n",
       " 'Taha Mustapha likes De compra! #mastercard #LeCoqSportif #Puma #Decathlon #Nike # https://t.co/IgI6ChuQEq https://t.co/nQGSEuMigb',\n",
       " 'RT @ativodot_24: Saindo do trabalho encontro esse puto no banheiro da decathlon,  já estava estressado não perdi a oportunidade de aliviar…',\n",
       " '@SofiaDMatos A Decathlon é bué boa em preço-qualidade. Se quiseres uma coisa muuuuito bonita não deves encontrar, mas a roupa é boa',\n",
       " 'Comprei duas meias na Decathlon, do mesmo tamanho e modelo. Uma ficou certinha, a outra certamente tava com a numeração errada pq cabe dois pés meus, e vem literalmente a numeração costurada na meia 🤡',\n",
       " 'RT @ativodot_24: Saindo do trabalho encontro esse puto no banheiro da decathlon,  já estava estressado não perdi a oportunidade de aliviar…',\n",
       " '@Adriana_Az27 Quando terminei a licenciatura em ciência politica trabalhei a dobrar roupa na decathlon e uns meses depois como assistente comercial numa gestora de frotas. Isto foi entre 2014 e 2016.',\n",
       " 'RT @Prince_x007: Ao recusar-se a encerrar as atividades comerciais na Rússia, a Auchan faz uma escolha consciente para ajudar a pagar as at…',\n",
       " '@DmytroKuleba @AUCHAN_France @alcampo @leroymerlinfr @Decathlon Parar de operar na FR não vai matar ninguém à fome, vai sim:\\n1) Dificultar o financiamento da guerra\\n2) Levar a população a insurgir-se.\\nPara acabar esta guerra o povo tem de se unir contra Putin. Ao contrário daquilo que lhes convém dizer, não existe russofobia, pelo contrário',\n",
       " 'E as caixas de pagamento na Decathlon? Ninguém se revolta com esta merda?',\n",
       " 'EBS Propaganda e Marketing: Decathlon Desconto de 10% https://t.co/RDoGhErKKR',\n",
       " 'Minha mãe encatadissima por entrar na decathlon pela primeira vez na vida kkkkkkkkkkkkkk',\n",
       " '@Decathlon Eu sou do 🇧🇷 e não compro mais nessa loja! Não a quem financia a guerra!!!',\n",
       " 'Ideia de date: ir na decathlon da avenida senhora do Carmo',\n",
       " 'RT @Kaifa: O Grupo Auchan (Auchan, Merlin + Decathlon), tentam encontrar desculpas para ñ pararem as actividades na Russia, e continuarem a…',\n",
       " 'O Grupo Auchan (Auchan, Merlin + Decathlon), tentam encontrar desculpas para ñ pararem as actividades na Russia, e continuarem a facturar. https://t.co/tQ1hCQlUee',\n",
       " 'RT @Loira: E as caixas de pagamento na Decathlon? Ninguém se revolta com esta merda?',\n",
       " '@Loira Decathlon é para boicotar, é das poucas que se mantém na Rússia porque o negócio fala mais alto. No mínimo não digas que vais lá e não faças publicidade.',\n",
       " 'RT @Loira: E as caixas de pagamento na Decathlon? Ninguém se revolta com esta merda?',\n",
       " '@callmegumnybear @Loira Consomes produtos Nestlé? Utilizas tecnologia da IBM? Vacina da Pfizer, carro BMW ou roupas Hugo Boss? Estas marcas apoiaram Hitler! Então não entrar na Decathlon é só hipocrisia e manipulação mediática. Antes que me peças fonte é só buscares no Google por estas marcas + nazismo',\n",
       " 'RT @Loira: E as caixas de pagamento na Decathlon? Ninguém se revolta com esta merda?',\n",
       " 'Novo fenómeno: a sweatshirt de 10€ que está a voar das prateleiras da Decathlon https://t.co/5TXbQBkB8t',\n",
       " 'Não esqueçam @AUCHAN_France @leroymerlinfr @Decathlon continuam a apoiar a Rússia na matança de civis ucranianos inocentes, incluindo centenas de crianças. É mais importante para eles o €€€€€€ que os direitos humanos . Boicotem.',\n",
       " 'RT @Loira: E as caixas de pagamento na Decathlon? Ninguém se revolta com esta merda?',\n",
       " 'RT @Bruno96394054: @callmegumnybear @Loira Consomes produtos Nestlé? Utilizas tecnologia da IBM? Vacina da Pfizer, carro BMW ou roupas Hugo…',\n",
       " '@inespedrosa_pt Nem aí nem no Leroy Merlin e no Decathlon por muito que me custe .. aonde é que vou comprar agora anzóis num Domingo?',\n",
       " 'RT @theluisribeiro: A Leroy &amp; Merlin recusa-se a sair da Rússia. A Rússia agradece destruindo a Leroy &amp; Merlin em Kyiv. Auchan, Nestlé e De…',\n",
       " 'sto feliz o dia foi bem produtivo, estudei mtm e música, caminhei, joguei handebol e fui comprar uns ngc na decathlon',\n",
       " 'Redes francesas Auchan Retail, Decathlon e Leroy Merlin continuarão na Rússia – Hora do\\xa0Povo https://t.co/aFEoT65xpZ',\n",
       " 'Boa noite só pra quem vai ser o rosto da Decathlon barra 💁🏿\\u200d♀️\\n\\nDepois ajudem a amiga que vai cuidar dessa ferramenta e sigam lá o insta da loja 😉',\n",
       " '@maracgs @Joaofonseca88 @Loira Além de certamente ter outras políticas de gestão de recursos humanos, que levaram a despedimentos amigáveis. É um grupo muito grande que casa passo que dá, é MT bem pensado, jamais haverá manifs a porta da Decathlon.',\n",
       " '@maracgs @Joaofonseca88 @Loira Obrigado. Faz isso até ter a mão de obra ajustada as novas  necessidades de menos mão de obra. Certamente deve ter parado com a contratação de novos funcionário, apesar de a decathlon ainda se encontrar em processo de expansão da cadeia de retalho pelo território nacional.',\n",
       " 'RT @ativodot_24: Saindo do trabalho encontro esse puto no banheiro da decathlon,  já estava estressado não perdi a oportunidade de aliviar…',\n",
       " '@callmegumnybear @Loira E os medicamentos?  As grandes farmacêuticas e laboratórios e a Cruz Vermelha estão lá. Aliás como a Auchan e Decathlon estão na Russia e na Ucrânia.  A ajuda que todos temos a necessidade de dar não é a prejudicar empresas. O verdadeiro culpado chana-se Putin.',\n",
       " 'A adicionar às acusações de betonização (incluindo Cascais) e fuga aos impostos, o grupo francês Mulliez recusa-se a deixar as suas operações na Rússia. Evitem comprar na Auchan, Leroy Merlin, Norauto, Decathlon \\nhttps://t.co/sbuVn1r8gF',\n",
       " 'Redes francesas Auchan Retail, Decathlon e Leroy Merlin decidem continuar na Rússia https://t.co/wg7y6uP7ZL',\n",
       " 'RT @macsanto787: Total + Societe Generale + Danone + Auchan + Decathlon etc, gigantes francesas dizem que vão continuar na Russia;\\nué!\\nMas…',\n",
       " '@thaispanisset e  @cakebelz \\ncomprei essa calça: https://t.co/wEIZlp07sN\\n\\ne agora comprei dois casacos desses:\\nhttps://t.co/2vTI3rsM4w\\n\\nas térmicas vão ser essas:\\nhttps://t.co/mhwrJcHogL\\npq eu tenho uma já e acho bem boa\\n\\ne as meias vou comprar no shopee que eu já vi kit mais barato do q +',\n",
       " '@ManuDarian Vamos comprar uma na Decathlon?',\n",
       " 'RT @Prince_x007: Alguém devia organizar por cá o que noutros países se faz à entrada das lojas da Auchan, Leroy-Merlin e Decathlon, por exe…',\n",
       " '@Antonia16363479 @SF_Moro Obrigado Antônia. Mas está justo, apenas.\\nFiz a foto com a mão esquerda. Não ficou boa. E agora vejo que está riscado.\\nA pandemia, atrapalhou tudo. Paguei na decathlon,  R$69,00, em 2020.\\nVou comprar outro, assim que for a loja. 🏊\\u200d♂️🏌\\u200d♂️🚴\\u200d♂️💪🤝',\n",
       " 'ATENÇÃO \\n\\npra quem tiver o pezinho 37- tá rolando uma botinha da Quechua na Decathlon lindinha demais por 199,00!!!\\n\\ntá como numeração 38, mas a forma é pequena.\\n\\ncogitei cortar as pontinhas de uns dedos só pra levar',\n",
       " '@SomenteOrestes A vida não dá voltas... Faz maratona, decathlon, iron man e rally Paris-Dacar. \\nE a vontade de uma reunião com essa turma toda lá algum dia é total zero! Nem chance.',\n",
       " 'RT @Loira: E as caixas de pagamento na Decathlon? Ninguém se revolta com esta merda?',\n",
       " 'RT @Prince_x007: Alguém devia organizar por cá o que noutros países se faz à entrada das lojas da Auchan, Leroy-Merlin e Decathlon, por exe…',\n",
       " 'RT @Prince_x007: Alguém devia organizar por cá o que noutros países se faz à entrada das lojas da Auchan, Leroy-Merlin e Decathlon, por exe…',\n",
       " 'RT @Prince_x007: Alguém devia organizar por cá o que noutros países se faz à entrada das lojas da Auchan, Leroy-Merlin e Decathlon, por exe…',\n",
       " 'RT @Prince_x007: Alguém devia organizar por cá o que noutros países se faz à entrada das lojas da Auchan, Leroy-Merlin e Decathlon, por exe…',\n",
       " 'RT @Prince_x007: Alguém devia organizar por cá o que noutros países se faz à entrada das lojas da Auchan, Leroy-Merlin e Decathlon, por exe…',\n",
       " '@Med69Z @DmytroKuleba @AUCHAN_France @alcampo @leroymerlinfr @Decathlon Gabacho',\n",
       " 'RT @Prince_x007: Alguém devia organizar por cá o que noutros países se faz à entrada das lojas da Auchan, Leroy-Merlin e Decathlon, por exe…',\n",
       " 'A Decathlon me faz de danada fácil, fui comprar um maiô de natação pra minha irmã e voltei com um saco de dormir, um shorts, uma bola de vôlei e ainda atirei de arco e flecha',\n",
       " 'Quem é que deu cabo do site da Decathlon?\\nForam os ucranianos?',\n",
       " '@jpfpenedo Auchan não vou mais (e bem me dava jeito que há um bem perto), Leroy e Decathlon também não. Só assim aprendem.',\n",
       " 'RT @jpfpenedo: Talvez alguns se riam ou encolham os ombros quando se fala em boicotar marcas como a Auchan, Leroy-Merlin ou Decathlon que s…',\n",
       " 'RT @jpfpenedo: Talvez alguns se riam ou encolham os ombros quando se fala em boicotar marcas como a Auchan, Leroy-Merlin ou Decathlon que s…',\n",
       " 'RT @jpfpenedo: Talvez alguns se riam ou encolham os ombros quando se fala em boicotar marcas como a Auchan, Leroy-Merlin ou Decathlon que s…',\n",
       " 'RT @jpfpenedo: Talvez alguns se riam ou encolham os ombros quando se fala em boicotar marcas como a Auchan, Leroy-Merlin ou Decathlon que s…',\n",
       " 'Talvez alguns se riam ou encolham os ombros quando se fala em boicotar marcas como a Auchan, Leroy-Merlin ou Decathlon que se recusaram a abandonar a Rússia. Mas é exatamente desta forma que conseguimos, pelo impacto gerado nas vendas, influenciar comportamentos e afetar a Rússia',\n",
       " '@cesarsbatista Tipo o prédio da decathlon....',\n",
       " '@_Sean se puder compra na decathlon, as calças da quechua são um pouco mais caras q uma tactel normal, mas elas são bem boas',\n",
       " 'Vim na Decathlon comprar roupa de natação e lembrei pq nunca fico de roupa de banho em público. QUE DIFICULDADE achar um maiô básico pra uma pessoa torta',\n",
       " 'RT @Prince_x007: Alguém devia organizar por cá o que noutros países se faz à entrada das lojas da Auchan, Leroy-Merlin e Decathlon, por exe…',\n",
       " 'bicho o tanto de gente reclamando da decathlon no reclame aqui \\n\\nCOM OS MESMOS PROBLEMAS\\n\\naparentemente a loja física é ok mas o serviço online é péssimo',\n",
       " 'RT @MiguelBushes: Quem é que deu cabo do site da Decathlon?\\nForam os ucranianos?',\n",
       " 'RT @jpfpenedo: Talvez alguns se riam ou encolham os ombros quando se fala em boicotar marcas como a Auchan, Leroy-Merlin ou Decathlon que s…',\n",
       " 'RT @Prince_x007: Alguém devia organizar por cá o que noutros países se faz à entrada das lojas da Auchan, Leroy-Merlin e Decathlon, por exe…',\n",
       " 'RT @jpfpenedo: Talvez alguns se riam ou encolham os ombros quando se fala em boicotar marcas como a Auchan, Leroy-Merlin ou Decathlon que s…',\n",
       " 'Vim na Decathlon buscar uma encomenda (meu maiô novo de hidroginástica) e dei O rolezinho no shopping. Tou aqui esperando minha pizza brotinho e olhando feio pra quem tá sem máscara. Pai chegou com o número do pedido pra dar sorte https://t.co/JoAeY6hLOi',\n",
       " 'RT @jpfpenedo: Talvez alguns se riam ou encolham os ombros quando se fala em boicotar marcas como a Auchan, Leroy-Merlin ou Decathlon que s…',\n",
       " 'RT @jpfpenedo: Talvez alguns se riam ou encolham os ombros quando se fala em boicotar marcas como a Auchan, Leroy-Merlin ou Decathlon que s…',\n",
       " 'RT @jpfpenedo: Talvez alguns se riam ou encolham os ombros quando se fala em boicotar marcas como a Auchan, Leroy-Merlin ou Decathlon que s…',\n",
       " '❌As pessoas estão boicotando empresas que não querem sair do mercado russo.\\n\\nEsses protestos foram realizados na Polônia nas lojas Leroy Merlin, Auchan, Decathlon.\\n\\nCompartilhe e faça o mesmo no Brasil!\\n\\n#StandWithUkraine https://t.co/VKiJwVQ8Mp',\n",
       " '@brunaviegay como assim decathlon',\n",
       " 'amanhã rolê de casal c meu amor🥰 (leroy merlin e decathlon)',\n",
       " '@luciapossas po, os que eu uso são da academia mesmo. mas tenta decathlon ou ML que deve ter',\n",
       " 'RT @jpfpenedo: Talvez alguns se riam ou encolham os ombros quando se fala em boicotar marcas como a Auchan, Leroy-Merlin ou Decathlon que s…',\n",
       " 'Eu ontem falando que levar barraca no role dava maior trabalho, eu hoje olhando o site da decathlon querendo comprar uma kkkkkkkkkkkkkkkkkkk',\n",
       " 'Business of Blood! \\nLeroy Merlin, Decathlon e Auchan, pertencentes ao grupo Françês ADEO continuam a laborar na Rússia, apoiando com os seus impostos o esforço de guerra do Putin para continuar a Matar o Povo Ucraniano! É bom saber de que lado estão estas empresas de merda! https://t.co/99zcPwh0bo',\n",
       " 'RT @Prince_x007: Alguém devia organizar por cá o que noutros países se faz à entrada das lojas da Auchan, Leroy-Merlin e Decathlon, por exe…',\n",
       " '@TI75Z @Decathlon @AUCHAN_France @leroymerlinfr Bravo!',\n",
       " '@aurelie_flahaut @Decathlon @ZelenskyyUa Bravo!',\n",
       " 'RT @jpfpenedo: Talvez alguns se riam ou encolham os ombros quando se fala em boicotar marcas como a Auchan, Leroy-Merlin ou Decathlon que s…',\n",
       " 'Decathlon gigante francesa ficará na Rússia. Sem \"barraco\" na barraca em espera, para ver o império USA cair. https://t.co/hA0tN29FIi',\n",
       " 'meu deus as coisas de hipismo da decathlon tao um absurdo de caras que isso',\n",
       " 'minha melhor aquisição foi a minha botinha da decathlon',\n",
       " 'RT @ZTFutsal_Oficia: #LigaPlacardFutsal \\nPaulinho ‘cambalhota no marcador’ Rocha\\nA figura da jornada tem o apoio de Kipsta Futsal, Decathlo…',\n",
       " 'Tá sabendo da novidade?🤔 Chegou a nova coleção Outono/ Inverno da @DomyosClub, disponível no Site, App ou Loja física mais próxima de você. 💙\\n\\nConfira mais: https://t.co/6Epyp4p2Rd',\n",
       " '@maucarater_ Primeiramente, nos desculpamos pela ocorrido. A Decathlon não compactua com nenhuma atitude discriminatória ou preconceituosa e busca em seus colaboradores esse mesmo sentimento. Lhe enviamos uma mensagem via DM e qualquer dúvida, por gentileza nos responda por lá.',\n",
       " '@FlorbelaEspanc5 Decathlon. A centauro não é bolsonarista?']"
      ]
     },
     "execution_count": 61,
     "metadata": {},
     "output_type": "execute_result"
    }
   ],
   "source": [
    "list(df['text'])"
   ]
  },
  {
   "cell_type": "code",
   "execution_count": null,
   "metadata": {},
   "outputs": [],
   "source": []
  }
 ],
 "metadata": {
  "interpreter": {
   "hash": "90215180e3510b7cc610bbcd7049faaefdb75cf213a625a3b7913872d73ad565"
  },
  "kernelspec": {
   "display_name": "Python 3.9.7 ('base')",
   "language": "python",
   "name": "python3"
  },
  "language_info": {
   "codemirror_mode": {
    "name": "ipython",
    "version": 3
   },
   "file_extension": ".py",
   "mimetype": "text/x-python",
   "name": "python",
   "nbconvert_exporter": "python",
   "pygments_lexer": "ipython3",
   "version": "3.9.7"
  },
  "orig_nbformat": 4
 },
 "nbformat": 4,
 "nbformat_minor": 2
}
